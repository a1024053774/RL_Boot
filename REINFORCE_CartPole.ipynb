{
 "cells": [
  {
   "cell_type": "markdown",
   "id": "intro-markdown-reinforce",
   "metadata": {},
   "source": [
    "# 使用 REINFORCE 算法解决平衡杆问题 (CartPole)\n",
    "\n",
    "在这个Notebook中，我们将实现经典的策略梯度算法——REINFORCE，来训练一个智能体玩`CartPole-v1`游戏。与DQN不同，REINFORCE是一种**基于策略Policy-Based**的方法，它直接学习一个策略函数，该函数将状态映射到动作的概率分布。\n",
    "\n",
    "**核心思想:**\n",
    "1.  **策略网络 (Policy Network)**: 使用一个神经网络来参数化策略。网络的输入是环境状态，输出是每个可能动作被选择的概率。\n",
    "2.  **轨迹采样 (Trajectory Sampling)**: 智能体根据当前策略与环境互动，完成一个完整的游戏回合（episode），并记录下整个轨迹中的状态、动作、奖励。\n",
    "3.  **策略梯度更新 (Policy Gradient Update)**: 在一个回合结束后，计算每个时间步的未来折扣回报（Return, G_t）。然后，使用这些回报来调整策略网络的参数。目标是增加能够带来更高回报的动作的概率，减少导致较低回报的动作的概率。\n",
    "\n",
    "$$ \\nabla_\\theta J(\\theta) \\approx \\sum_{t=0}^{T} G_t \\nabla_\\theta \\ln \\pi_\\theta(a_t|s_t) $$\n",
    "\n",
    "其中，$G_t$ 是在时间步 $t$ 的折扣回报，$\\pi_\\theta(a_t|s_t)$ 是策略网络。"
   ]
  },
  {
   "cell_type": "markdown",
   "id": "setup-markdown-reinforce",
   "metadata": {},
   "source": [
    "## 1. 环境设置\n",
    "\n",
    "首先，安装必要的库。我们将使用 `gymnasium` 作为环境库。"
   ]
  },
  {
   "cell_type": "code",
   "id": "pip-install-cell-reinforce",
   "metadata": {
    "ExecuteTime": {
     "end_time": "2025-07-28T14:15:56.931940Z",
     "start_time": "2025-07-28T14:15:53.127526Z"
    }
   },
   "source": [
    "!pip install gymnasium torch numpy matplotlib --user"
   ],
   "outputs": [
    {
     "name": "stdout",
     "output_type": "stream",
     "text": [
      "Requirement already satisfied: gymnasium in d:\\developmentsoftware\\anaconda\\envs\\py311\\lib\\site-packages (1.1.1)\n",
      "Requirement already satisfied: torch in d:\\developmentsoftware\\anaconda\\envs\\py311\\lib\\site-packages (2.5.1)\n",
      "Requirement already satisfied: numpy in d:\\developmentsoftware\\anaconda\\envs\\py311\\lib\\site-packages (2.0.1)\n",
      "Requirement already satisfied: matplotlib in d:\\developmentsoftware\\anaconda\\envs\\py311\\lib\\site-packages (3.10.0)\n",
      "Requirement already satisfied: cloudpickle>=1.2.0 in d:\\developmentsoftware\\anaconda\\envs\\py311\\lib\\site-packages (from gymnasium) (3.1.1)\n",
      "Requirement already satisfied: typing-extensions>=4.3.0 in c:\\users\\10240\\appdata\\roaming\\python\\python311\\site-packages (from gymnasium) (4.12.2)\n",
      "Requirement already satisfied: farama-notifications>=0.0.1 in d:\\developmentsoftware\\anaconda\\envs\\py311\\lib\\site-packages (from gymnasium) (0.0.4)\n",
      "Requirement already satisfied: filelock in c:\\users\\10240\\appdata\\roaming\\python\\python311\\site-packages (from torch) (3.17.0)\n",
      "Requirement already satisfied: sympy==1.13.1 in c:\\users\\10240\\appdata\\roaming\\python\\python311\\site-packages (from torch) (1.13.1)\n",
      "Requirement already satisfied: networkx in c:\\users\\10240\\appdata\\roaming\\python\\python311\\site-packages (from torch) (3.4.2)\n",
      "Requirement already satisfied: jinja2 in c:\\users\\10240\\appdata\\roaming\\python\\python311\\site-packages (from torch) (3.1.5)\n",
      "Requirement already satisfied: fsspec in c:\\users\\10240\\appdata\\roaming\\python\\python311\\site-packages (from torch) (2024.12.0)\n",
      "Requirement already satisfied: mpmath<1.4,>=1.1.0 in c:\\users\\10240\\appdata\\roaming\\python\\python311\\site-packages (from sympy==1.13.1->torch) (1.3.0)\n",
      "Requirement already satisfied: contourpy>=1.0.1 in d:\\developmentsoftware\\anaconda\\envs\\py311\\lib\\site-packages (from matplotlib) (1.3.1)\n",
      "Requirement already satisfied: cycler>=0.10 in d:\\developmentsoftware\\anaconda\\envs\\py311\\lib\\site-packages (from matplotlib) (0.11.0)\n",
      "Requirement already satisfied: fonttools>=4.22.0 in c:\\users\\10240\\appdata\\roaming\\python\\python311\\site-packages (from matplotlib) (4.56.0)\n",
      "Requirement already satisfied: kiwisolver>=1.3.1 in d:\\developmentsoftware\\anaconda\\envs\\py311\\lib\\site-packages (from matplotlib) (1.4.8)\n",
      "Requirement already satisfied: packaging>=20.0 in c:\\users\\10240\\appdata\\roaming\\python\\python311\\site-packages (from matplotlib) (25.0)\n",
      "Requirement already satisfied: pillow>=8 in c:\\users\\10240\\appdata\\roaming\\python\\python311\\site-packages (from matplotlib) (11.1.0)\n",
      "Requirement already satisfied: pyparsing>=2.3.1 in c:\\users\\10240\\appdata\\roaming\\python\\python311\\site-packages (from matplotlib) (3.2.1)\n",
      "Requirement already satisfied: python-dateutil>=2.7 in c:\\users\\10240\\appdata\\roaming\\python\\python311\\site-packages (from matplotlib) (2.9.0.post0)\n",
      "Requirement already satisfied: six>=1.5 in c:\\users\\10240\\appdata\\roaming\\python\\python311\\site-packages (from python-dateutil>=2.7->matplotlib) (1.17.0)\n",
      "Requirement already satisfied: MarkupSafe>=2.0 in c:\\users\\10240\\appdata\\roaming\\python\\python311\\site-packages (from jinja2->torch) (3.0.2)\n"
     ]
    }
   ],
   "execution_count": 1
  },
  {
   "cell_type": "markdown",
   "id": "code-intro-markdown-reinforce",
   "metadata": {},
   "source": [
    "## 2. REINFORCE 算法实现\n",
    "\n",
    "完整的代码实现，包括策略网络定义和REINFORCE训练函数。"
   ]
  },
  {
   "cell_type": "code",
   "id": "full-code-cell-reinforce",
   "metadata": {
    "ExecuteTime": {
     "end_time": "2025-07-28T14:16:41.798599Z",
     "start_time": "2025-07-28T14:16:36.561543Z"
    }
   },
   "source": [
    "import gymnasium as gym\n",
    "import numpy as np\n",
    "from collections import deque\n",
    "import matplotlib.pyplot as plt\n",
    "\n",
    "import torch\n",
    "import torch.nn as nn\n",
    "import torch.nn.functional as F\n",
    "import torch.optim as optim\n",
    "from torch.distributions import Categorical\n",
    "\n",
    "# --- 1. 初始化环境和设备 ---\n",
    "device = torch.device(\"cuda:0\" if torch.cuda.is_available() else \"cpu\")\n",
    "print(f\"Using device: {device}\")\n",
    "\n",
    "env_id = \"CartPole-v1\"\n",
    "env = gym.make(env_id)\n",
    "\n",
    "# 获取状态和动作空间信息\n",
    "s_size = env.observation_space.shape[0]\n",
    "a_size = env.action_space.n\n",
    "\n",
    "print(\"_____ 观察空间 (Observation Space) _____\\n\")\n",
    "print(\"状态空间维度: \", s_size)\n",
    "print(\"一个随机状态样本: \", env.observation_space.sample())\n",
    "print(\"\\n_____ 动作空间 (Action Space) _____\\n\")\n",
    "print(\"动作空间维度: \", a_size)\n",
    "print(\"一个随机动作样本: \", env.action_space.sample())\n",
    "\n",
    "# --- 2. 定义策略网络 ---\n",
    "class Policy(nn.Module):\n",
    "    def __init__(self, s_size, a_size, h_size):\n",
    "        super(Policy, self).__init__()\n",
    "        self.fc1 = nn.Linear(s_size, h_size) # 输入层到隐藏层\n",
    "        self.fc2 = nn.Linear(h_size, a_size) # 隐藏层到输出层\n",
    "\n",
    "    def forward(self, x):\n",
    "        \"\"\"定义网络的前向传播\"\"\"\n",
    "        x = F.relu(self.fc1(x))\n",
    "        x = self.fc2(x)\n",
    "        # 使用 softmax 将输出转换为动作概率分布\n",
    "        return F.softmax(x, dim=1)\n",
    "\n",
    "    def act(self, state):\n",
    "        \"\"\"根据当前状态选择一个动作\"\"\"\n",
    "        state = torch.from_numpy(state).float().unsqueeze(0).to(device)\n",
    "        probs = self.forward(state).cpu()\n",
    "        m = Categorical(probs)  # 创建一个以 probs 为参数的 Categorical 分布对象\n",
    "        action = m.sample()       # 从分布中采样一个动作\n",
    "        return action.item(), m.log_prob(action) # 返回动作和该动作的对数概率\n",
    "\n",
    "# --- 3. 定义 REINFORCE 训练函数 ---\n",
    "def reinforce(policy, optimizer, n_training_episodes, max_t, gamma, print_every):\n",
    "    scores_deque = deque(maxlen=100) # 存储最近100个回合的分数\n",
    "    scores = [] # 存储所有回合的分数\n",
    "\n",
    "    for i_episode in range(1, n_training_episodes + 1):\n",
    "        saved_log_probs = [] # 保存一个回合中所有动作的对数概率\n",
    "        rewards = []         # 保存一个回合中所有的奖励\n",
    "        state, info = env.reset() # 重置环境\n",
    "\n",
    "        # --- 轨迹采样 ---\n",
    "        for t in range(max_t):\n",
    "            action, log_prob = policy.act(state)\n",
    "            saved_log_probs.append(log_prob)\n",
    "            state, reward, terminated, truncated, info = env.step(action)\n",
    "            rewards.append(reward)\n",
    "            if terminated or truncated:\n",
    "                break\n",
    "        \n",
    "        scores_deque.append(sum(rewards))\n",
    "        scores.append(sum(rewards))\n",
    "\n",
    "        # --- 计算折扣回报 (G_t) ---\n",
    "        returns = deque(maxlen=max_t)\n",
    "        n_steps = len(rewards)\n",
    "        # 从后往前计算每个时间步的G_t\n",
    "        for t in range(n_steps)[::-1]:\n",
    "            disc_return_t = (returns[0] if len(returns) > 0 else 0)\n",
    "            returns.appendleft(gamma * disc_return_t + rewards[t])\n",
    "        \n",
    "        # --- 标准化回报 ---\n",
    "        # 标准化可以使训练更稳定\n",
    "        eps = np.finfo(np.float32).eps.item() # 避免除以零\n",
    "        returns = torch.tensor(list(returns))\n",
    "        returns = (returns - returns.mean()) / (returns.std() + eps)\n",
    "\n",
    "        # --- 计算策略损失 ---\n",
    "        policy_loss = []\n",
    "        for log_prob, disc_return in zip(saved_log_probs, returns):\n",
    "            policy_loss.append(-log_prob * disc_return) # 损失函数核心\n",
    "        \n",
    "        policy_loss = torch.cat(policy_loss).sum() # 求和得到最终损失\n",
    "\n",
    "        # --- 更新网络权重 ---\n",
    "        optimizer.zero_grad()\n",
    "        policy_loss.backward()\n",
    "        optimizer.step()\n",
    "\n",
    "        if i_episode % print_every == 0:\n",
    "            print(f'Episode {i_episode}\\tAverage Score: {np.mean(scores_deque):.2f}')\n",
    "        \n",
    "    return scores\n"
   ],
   "outputs": [
    {
     "name": "stdout",
     "output_type": "stream",
     "text": [
      "Using device: cuda:0\n",
      "_____ 观察空间 (Observation Space) _____\n",
      "\n",
      "状态空间维度:  4\n",
      "一个随机状态样本:  [ 2.2591379   0.57552105 -0.24983628 -0.04322502]\n",
      "\n",
      "_____ 动作空间 (Action Space) _____\n",
      "\n",
      "动作空间维度:  2\n",
      "一个随机动作样本:  1\n"
     ]
    }
   ],
   "execution_count": 2
  },
  {
   "cell_type": "markdown",
   "id": "hyperparams-markdown-reinforce",
   "metadata": {},
   "source": "## 3. 设置超参数并开始训练\n"
  },
  {
   "cell_type": "code",
   "id": "training-cell-reinforce",
   "metadata": {
    "ExecuteTime": {
     "end_time": "2025-07-28T14:34:09.904247Z",
     "start_time": "2025-07-28T14:17:02.875199Z"
    }
   },
   "source": [
    "cartpole_hyperparameters = {\n",
    "    \"h_size\": 16,                    # 隐藏层大小\n",
    "    \"n_training_episodes\": 1500,     # 训练回合数\n",
    "    \"n_evaluation_episodes\": 10,     # 评估回合数\n",
    "    \"max_t\": 1000,                   # 每个回合的最大步数\n",
    "    \"gamma\": 0.99,                   # 折扣因子\n",
    "    \"lr\": 1e-2,                      # 学习率\n",
    "    \"env_id\": env_id,\n",
    "    \"state_space\": s_size,\n",
    "    \"action_space\": a_size,\n",
    "}\n",
    "\n",
    "# 创建策略网络和优化器\n",
    "cartpole_policy = Policy(cartpole_hyperparameters[\"state_space\"], cartpole_hyperparameters[\"action_space\"], cartpole_hyperparameters[\"h_size\"]).to(device)\n",
    "cartpole_optimizer = optim.Adam(cartpole_policy.parameters(), lr=cartpole_hyperparameters[\"lr\"])\n",
    "\n",
    "# 开始训练\n",
    "scores = reinforce(cartpole_policy,\n",
    "                   cartpole_optimizer,\n",
    "                   cartpole_hyperparameters[\"n_training_episodes\"],\n",
    "                   cartpole_hyperparameters[\"max_t\"],\n",
    "                   cartpole_hyperparameters[\"gamma\"],\n",
    "                   100)\n",
    "\n",
    "print(\"训练完成！\")"
   ],
   "outputs": [
    {
     "name": "stdout",
     "output_type": "stream",
     "text": [
      "Episode 100\tAverage Score: 75.23\n",
      "Episode 200\tAverage Score: 368.25\n",
      "Episode 300\tAverage Score: 459.21\n",
      "Episode 400\tAverage Score: 390.39\n",
      "Episode 500\tAverage Score: 472.64\n",
      "Episode 600\tAverage Score: 500.00\n",
      "Episode 700\tAverage Score: 404.03\n",
      "Episode 800\tAverage Score: 491.72\n",
      "Episode 900\tAverage Score: 500.00\n",
      "Episode 1000\tAverage Score: 500.00\n",
      "Episode 1100\tAverage Score: 500.00\n",
      "Episode 1200\tAverage Score: 500.00\n",
      "Episode 1300\tAverage Score: 488.35\n",
      "Episode 1400\tAverage Score: 498.10\n",
      "Episode 1500\tAverage Score: 495.14\n",
      "训练完成！\n"
     ]
    }
   ],
   "execution_count": 3
  },
  {
   "cell_type": "markdown",
   "id": "evaluation-markdown-reinforce",
   "metadata": {},
   "source": "## 4. 评估和可视化\n"
  },
  {
   "cell_type": "code",
   "id": "evaluation-cell-reinforce",
   "metadata": {
    "ExecuteTime": {
     "end_time": "2025-07-28T14:36:09.140960Z",
     "start_time": "2025-07-28T14:34:32.392781Z"
    }
   },
   "source": [
    "def evaluate_agent(env, max_steps, n_eval_episodes, policy):\n",
    "    \"\"\"评估训练好的智能体\"\"\"\n",
    "    episode_rewards = []\n",
    "    for episode in range(n_eval_episodes):\n",
    "        state, info = env.reset()\n",
    "        total_rewards_ep = 0\n",
    "        \n",
    "        for step in range(max_steps):\n",
    "            action, _ = policy.act(state)\n",
    "            new_state, reward, terminated, truncated, info = env.step(action)\n",
    "            total_rewards_ep += reward\n",
    "            \n",
    "            if terminated or truncated:\n",
    "                break\n",
    "            state = new_state\n",
    "        episode_rewards.append(total_rewards_ep)\n",
    "    mean_reward = np.mean(episode_rewards)\n",
    "    std_reward = np.std(episode_rewards)\n",
    "    return mean_reward, std_reward\n",
    "\n",
    "# 创建一个新的评估环境，并开启渲染模式\n",
    "eval_env = gym.make(env_id, render_mode=\"human\")\n",
    "mean_reward, std_reward = evaluate_agent(eval_env, \n",
    "                                         cartpole_hyperparameters[\"max_t\"], \n",
    "                                         cartpole_hyperparameters[\"n_evaluation_episodes\"], \n",
    "                                         cartpole_policy)\n",
    "print(f\"平均奖励 = {mean_reward:.2f} +/- {std_reward:.2f}\")\n",
    "\n",
    "# 关闭环境窗口\n",
    "eval_env.close()\n",
    "\n",
    "# 绘制分数曲线\n",
    "plt.figure(figsize=(10, 6))\n",
    "plt.plot(scores)\n",
    "plt.title('REINFORCE 训练过程中的分数变化')\n",
    "plt.xlabel('回合 (Episode)')\n",
    "plt.ylabel('总奖励 (Total Reward)')\n",
    "plt.grid(True)\n",
    "plt.show()"
   ],
   "outputs": [
    {
     "name": "stdout",
     "output_type": "stream",
     "text": [
      "平均奖励 = 452.30 +/- 143.10\n"
     ]
    },
    {
     "name": "stderr",
     "output_type": "stream",
     "text": [
      "D:\\DevelopmentSoftware\\Anaconda\\envs\\py311\\Lib\\site-packages\\IPython\\core\\pylabtools.py:170: UserWarning: Glyph 24635 (\\N{CJK UNIFIED IDEOGRAPH-603B}) missing from font(s) DejaVu Sans.\n",
      "  fig.canvas.print_figure(bytes_io, **kw)\n",
      "D:\\DevelopmentSoftware\\Anaconda\\envs\\py311\\Lib\\site-packages\\IPython\\core\\pylabtools.py:170: UserWarning: Glyph 22870 (\\N{CJK UNIFIED IDEOGRAPH-5956}) missing from font(s) DejaVu Sans.\n",
      "  fig.canvas.print_figure(bytes_io, **kw)\n",
      "D:\\DevelopmentSoftware\\Anaconda\\envs\\py311\\Lib\\site-packages\\IPython\\core\\pylabtools.py:170: UserWarning: Glyph 21169 (\\N{CJK UNIFIED IDEOGRAPH-52B1}) missing from font(s) DejaVu Sans.\n",
      "  fig.canvas.print_figure(bytes_io, **kw)\n",
      "D:\\DevelopmentSoftware\\Anaconda\\envs\\py311\\Lib\\site-packages\\IPython\\core\\pylabtools.py:170: UserWarning: Glyph 35757 (\\N{CJK UNIFIED IDEOGRAPH-8BAD}) missing from font(s) DejaVu Sans.\n",
      "  fig.canvas.print_figure(bytes_io, **kw)\n",
      "D:\\DevelopmentSoftware\\Anaconda\\envs\\py311\\Lib\\site-packages\\IPython\\core\\pylabtools.py:170: UserWarning: Glyph 32451 (\\N{CJK UNIFIED IDEOGRAPH-7EC3}) missing from font(s) DejaVu Sans.\n",
      "  fig.canvas.print_figure(bytes_io, **kw)\n",
      "D:\\DevelopmentSoftware\\Anaconda\\envs\\py311\\Lib\\site-packages\\IPython\\core\\pylabtools.py:170: UserWarning: Glyph 36807 (\\N{CJK UNIFIED IDEOGRAPH-8FC7}) missing from font(s) DejaVu Sans.\n",
      "  fig.canvas.print_figure(bytes_io, **kw)\n",
      "D:\\DevelopmentSoftware\\Anaconda\\envs\\py311\\Lib\\site-packages\\IPython\\core\\pylabtools.py:170: UserWarning: Glyph 31243 (\\N{CJK UNIFIED IDEOGRAPH-7A0B}) missing from font(s) DejaVu Sans.\n",
      "  fig.canvas.print_figure(bytes_io, **kw)\n",
      "D:\\DevelopmentSoftware\\Anaconda\\envs\\py311\\Lib\\site-packages\\IPython\\core\\pylabtools.py:170: UserWarning: Glyph 20013 (\\N{CJK UNIFIED IDEOGRAPH-4E2D}) missing from font(s) DejaVu Sans.\n",
      "  fig.canvas.print_figure(bytes_io, **kw)\n",
      "D:\\DevelopmentSoftware\\Anaconda\\envs\\py311\\Lib\\site-packages\\IPython\\core\\pylabtools.py:170: UserWarning: Glyph 30340 (\\N{CJK UNIFIED IDEOGRAPH-7684}) missing from font(s) DejaVu Sans.\n",
      "  fig.canvas.print_figure(bytes_io, **kw)\n",
      "D:\\DevelopmentSoftware\\Anaconda\\envs\\py311\\Lib\\site-packages\\IPython\\core\\pylabtools.py:170: UserWarning: Glyph 20998 (\\N{CJK UNIFIED IDEOGRAPH-5206}) missing from font(s) DejaVu Sans.\n",
      "  fig.canvas.print_figure(bytes_io, **kw)\n",
      "D:\\DevelopmentSoftware\\Anaconda\\envs\\py311\\Lib\\site-packages\\IPython\\core\\pylabtools.py:170: UserWarning: Glyph 25968 (\\N{CJK UNIFIED IDEOGRAPH-6570}) missing from font(s) DejaVu Sans.\n",
      "  fig.canvas.print_figure(bytes_io, **kw)\n",
      "D:\\DevelopmentSoftware\\Anaconda\\envs\\py311\\Lib\\site-packages\\IPython\\core\\pylabtools.py:170: UserWarning: Glyph 21464 (\\N{CJK UNIFIED IDEOGRAPH-53D8}) missing from font(s) DejaVu Sans.\n",
      "  fig.canvas.print_figure(bytes_io, **kw)\n",
      "D:\\DevelopmentSoftware\\Anaconda\\envs\\py311\\Lib\\site-packages\\IPython\\core\\pylabtools.py:170: UserWarning: Glyph 21270 (\\N{CJK UNIFIED IDEOGRAPH-5316}) missing from font(s) DejaVu Sans.\n",
      "  fig.canvas.print_figure(bytes_io, **kw)\n",
      "D:\\DevelopmentSoftware\\Anaconda\\envs\\py311\\Lib\\site-packages\\IPython\\core\\pylabtools.py:170: UserWarning: Glyph 22238 (\\N{CJK UNIFIED IDEOGRAPH-56DE}) missing from font(s) DejaVu Sans.\n",
      "  fig.canvas.print_figure(bytes_io, **kw)\n",
      "D:\\DevelopmentSoftware\\Anaconda\\envs\\py311\\Lib\\site-packages\\IPython\\core\\pylabtools.py:170: UserWarning: Glyph 21512 (\\N{CJK UNIFIED IDEOGRAPH-5408}) missing from font(s) DejaVu Sans.\n",
      "  fig.canvas.print_figure(bytes_io, **kw)\n"
     ]
    },
    {
     "data": {
      "text/plain": [
       "<Figure size 1000x600 with 1 Axes>"
      ],
      "image/png": "[encoded data removed]"
     },
     "metadata": {},
     "output_type": "display_data"
    }
   ],
   "execution_count": 4
  }
 ],
 "metadata": {
  "kernelspec": {
   "display_name": "Python 3 (ipykernel)",
   "language": "python",
   "name": "python3"
  },
  "language_info": {
   "codemirror_mode": {
    "name": "ipython",
    "version": 3
   },
   "file_extension": ".py",
   "mimetype": "text/x-python",
   "name": "python",
   "nbconvert_exporter": "python",
   "pygments_lexer": "ipython3",
   "version": "3.9"
  }
 },
 "nbformat": 4,
 "nbformat_minor": 5
}
