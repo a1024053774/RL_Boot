{
 "cells": [
  {
   "cell_type": "code",
   "metadata": {
    "collapsed": true,
    "ExecuteTime": {
     "end_time": "2025-07-06T09:15:19.558846Z",
     "start_time": "2025-07-06T09:15:19.057099Z"
    }
   },
   "source": [
    "import numpy as np\n",
    "import h5py\n",
    "import scipy\n",
    "from PIL import Image\n",
    "from scipy import ndimage\n",
    "from data import load_dataset"
   ],
   "outputs": [],
   "execution_count": 1
  },
  {
   "cell_type": "markdown",
   "metadata": {},
   "source": [
    "## 要求\n",
    "实现一个学习算法的整体结构\n",
    "* 获取并定义模型输入\n",
    "* 初始化参数\n",
    "* 计算成本函数及其梯度\n",
    "* 使用优化算法（梯度下降）\n",
    "    * 循环：\n",
    "    * 计算当前损失（正向传播）\n",
    "    * 计算当前梯度（反向传播）\n",
    "    * 更新参数（梯度下降）\n",
    "\n",
    "请实现相关函数，其中读取数据不需要实现。并在主模型函数中编写逻辑。"
   ]
  },
  {
   "cell_type": "markdown",
   "metadata": {},
   "source": [
    "### 读取数据\n",
    "1、按照向量化伪代码实现的形状要求将样本数据进行转换\n",
    "2、标准化数据处理"
   ]
  },
  {
   "cell_type": "code",
   "metadata": {
    "ExecuteTime": {
     "end_time": "2025-07-06T09:25:01.506766Z",
     "start_time": "2025-07-06T09:25:01.493559Z"
    }
   },
   "source": [
    "train_x, train_y, test_x, test_y, classes = load_dataset()\n",
    "print (\"训练集的样本数: \", train_x.shape[0])\n",
    "print (\"测试集的样本数: \" , test_x.shape[0])\n",
    "print (\"train_x形状: \", train_x.shape)\n",
    "print (\"train_y形状: \", train_y.shape)\n",
    "print (\"test_x形状: \", test_x.shape)\n",
    "print (\"test_x形状: \", test_y.shape)"
   ],
   "outputs": [
    {
     "name": "stdout",
     "output_type": "stream",
     "text": [
      "训练集的样本数:  209\n",
      "测试集的样本数:  50\n",
      "train_x形状:  (209, 64, 64, 3)\n",
      "train_y形状:  (1, 209)\n",
      "test_x形状:  (50, 64, 64, 3)\n",
      "test_x形状:  (1, 50)\n"
     ]
    }
   ],
   "execution_count": 9
  },
  {
   "cell_type": "code",
   "metadata": {
    "ExecuteTime": {
     "end_time": "2025-07-06T09:17:44.992075Z",
     "start_time": "2025-07-06T09:17:44.984056Z"
    }
   },
   "source": "train_y",
   "outputs": [
    {
     "data": {
      "text/plain": [
       "array([[0, 0, 1, 0, 0, 0, 0, 1, 0, 0, 0, 1, 0, 1, 1, 0, 0, 0, 0, 1, 0, 0,\n",
       "        0, 0, 1, 1, 0, 1, 0, 1, 0, 0, 0, 0, 0, 0, 0, 0, 1, 0, 0, 1, 1, 0,\n",
       "        0, 0, 0, 1, 0, 0, 1, 0, 0, 0, 1, 0, 1, 1, 0, 1, 1, 1, 0, 0, 0, 0,\n",
       "        0, 0, 1, 0, 0, 1, 0, 0, 0, 0, 0, 0, 0, 0, 0, 0, 0, 1, 1, 0, 0, 0,\n",
       "        1, 0, 0, 0, 1, 1, 1, 0, 0, 1, 0, 0, 0, 0, 1, 0, 1, 0, 1, 1, 1, 1,\n",
       "        1, 1, 0, 0, 0, 0, 0, 1, 0, 0, 0, 1, 0, 0, 1, 0, 1, 0, 1, 1, 0, 0,\n",
       "        0, 1, 1, 1, 1, 1, 0, 0, 0, 0, 1, 0, 1, 1, 1, 0, 1, 1, 0, 0, 0, 1,\n",
       "        0, 0, 1, 0, 0, 0, 0, 0, 1, 0, 1, 0, 1, 0, 0, 1, 1, 1, 0, 0, 1, 1,\n",
       "        0, 1, 0, 1, 0, 0, 0, 0, 0, 1, 0, 0, 1, 0, 0, 0, 1, 0, 0, 0, 0, 1,\n",
       "        0, 0, 1, 0, 0, 0, 0, 0, 0, 0, 0]], dtype=int64)"
      ]
     },
     "execution_count": 7,
     "metadata": {},
     "output_type": "execute_result"
    }
   ],
   "execution_count": 7
  },
  {
   "metadata": {
    "ExecuteTime": {
     "end_time": "2025-07-06T09:18:15.284260Z",
     "start_time": "2025-07-06T09:18:15.276864Z"
    }
   },
   "cell_type": "code",
   "source": "train_x",
   "outputs": [
    {
     "data": {
      "text/plain": [
       "array([[[[ 17,  31,  56],\n",
       "         [ 22,  33,  59],\n",
       "         [ 25,  35,  62],\n",
       "         ...,\n",
       "         [  1,  28,  57],\n",
       "         [  1,  26,  56],\n",
       "         [  1,  22,  51]],\n",
       "\n",
       "        [[ 25,  36,  62],\n",
       "         [ 28,  38,  64],\n",
       "         [ 30,  40,  67],\n",
       "         ...,\n",
       "         [  1,  27,  56],\n",
       "         [  1,  25,  55],\n",
       "         [  2,  21,  51]],\n",
       "\n",
       "        [[ 32,  40,  67],\n",
       "         [ 34,  42,  69],\n",
       "         [ 35,  42,  70],\n",
       "         ...,\n",
       "         [  1,  25,  55],\n",
       "         [  0,  24,  54],\n",
       "         [  1,  21,  51]],\n",
       "\n",
       "        ...,\n",
       "\n",
       "        [[  0,   0,   0],\n",
       "         [  0,   0,   0],\n",
       "         [  0,   0,   0],\n",
       "         ...,\n",
       "         [  0,   0,   0],\n",
       "         [  0,   0,   0],\n",
       "         [  0,   0,   0]],\n",
       "\n",
       "        [[  0,   0,   0],\n",
       "         [  0,   0,   0],\n",
       "         [  0,   0,   0],\n",
       "         ...,\n",
       "         [  0,   0,   0],\n",
       "         [  0,   0,   0],\n",
       "         [  0,   0,   0]],\n",
       "\n",
       "        [[  0,   0,   0],\n",
       "         [  0,   0,   0],\n",
       "         [  0,   0,   0],\n",
       "         ...,\n",
       "         [  0,   0,   0],\n",
       "         [  0,   0,   0],\n",
       "         [  0,   0,   0]]],\n",
       "\n",
       "\n",
       "       [[[196, 192, 190],\n",
       "         [193, 186, 182],\n",
       "         [188, 179, 174],\n",
       "         ...,\n",
       "         [ 90, 142, 200],\n",
       "         [ 90, 142, 201],\n",
       "         [ 90, 142, 201]],\n",
       "\n",
       "        [[230, 229, 229],\n",
       "         [204, 199, 197],\n",
       "         [193, 186, 181],\n",
       "         ...,\n",
       "         [ 91, 143, 201],\n",
       "         [ 91, 143, 201],\n",
       "         [ 91, 143, 201]],\n",
       "\n",
       "        [[232, 225, 224],\n",
       "         [235, 234, 234],\n",
       "         [208, 205, 202],\n",
       "         ...,\n",
       "         [ 91, 144, 202],\n",
       "         [ 91, 144, 202],\n",
       "         [ 92, 144, 202]],\n",
       "\n",
       "        ...,\n",
       "\n",
       "        [[ 18,  17,  15],\n",
       "         [ 14,  14,  13],\n",
       "         [ 29,  29,  32],\n",
       "         ...,\n",
       "         [ 83,  81,  81],\n",
       "         [ 84,  82,  83],\n",
       "         [ 82,  81,  82]],\n",
       "\n",
       "        [[ 22,  20,  18],\n",
       "         [ 16,  15,  14],\n",
       "         [ 25,  24,  24],\n",
       "         ...,\n",
       "         [ 82,  80,  80],\n",
       "         [ 83,  81,  82],\n",
       "         [ 82,  81,  81]],\n",
       "\n",
       "        [[ 45,  43,  39],\n",
       "         [ 61,  59,  54],\n",
       "         [ 81,  78,  74],\n",
       "         ...,\n",
       "         [ 83,  82,  81],\n",
       "         [ 84,  82,  82],\n",
       "         [ 82,  80,  81]]],\n",
       "\n",
       "\n",
       "       [[[ 82,  71,  68],\n",
       "         [ 89,  83,  83],\n",
       "         [100,  98, 104],\n",
       "         ...,\n",
       "         [131, 132, 137],\n",
       "         [126, 124, 124],\n",
       "         [105,  97,  95]],\n",
       "\n",
       "        [[ 95,  91,  97],\n",
       "         [104, 104, 113],\n",
       "         [110, 115, 126],\n",
       "         ...,\n",
       "         [135, 134, 135],\n",
       "         [127, 122, 119],\n",
       "         [111, 105, 103]],\n",
       "\n",
       "        [[ 94,  85,  83],\n",
       "         [ 97,  89,  90],\n",
       "         [110, 109, 115],\n",
       "         ...,\n",
       "         [136, 134, 131],\n",
       "         [127, 120, 117],\n",
       "         [116, 108, 104]],\n",
       "\n",
       "        ...,\n",
       "\n",
       "        [[ 96, 116, 131],\n",
       "         [ 97, 115, 130],\n",
       "         [103, 123, 139],\n",
       "         ...,\n",
       "         [152, 155, 157],\n",
       "         [146, 149, 152],\n",
       "         [130, 133, 134]],\n",
       "\n",
       "        [[ 90, 108, 123],\n",
       "         [ 92, 108, 121],\n",
       "         [100, 119, 134],\n",
       "         ...,\n",
       "         [150, 152, 155],\n",
       "         [144, 146, 147],\n",
       "         [134, 135, 134]],\n",
       "\n",
       "        [[ 86, 102, 116],\n",
       "         [ 87, 103, 115],\n",
       "         [ 94, 114, 127],\n",
       "         ...,\n",
       "         [154, 156, 160],\n",
       "         [146, 148, 152],\n",
       "         [138, 141, 142]]],\n",
       "\n",
       "\n",
       "       ...,\n",
       "\n",
       "\n",
       "       [[[143, 155, 165],\n",
       "         [184, 190, 198],\n",
       "         [142, 149, 155],\n",
       "         ...,\n",
       "         [ 99,  92, 102],\n",
       "         [120,  98, 102],\n",
       "         [100,  84,  95]],\n",
       "\n",
       "        [[151, 149, 139],\n",
       "         [173, 179, 185],\n",
       "         [105, 135, 141],\n",
       "         ...,\n",
       "         [ 91,  87,  99],\n",
       "         [119,  99, 104],\n",
       "         [120,  95, 101]],\n",
       "\n",
       "        [[204, 190, 185],\n",
       "         [180, 185, 195],\n",
       "         [117, 155, 177],\n",
       "         ...,\n",
       "         [ 96,  88, 101],\n",
       "         [125, 103, 110],\n",
       "         [120, 100, 110]],\n",
       "\n",
       "        ...,\n",
       "\n",
       "        [[ 41,  80, 116],\n",
       "         [ 41,  80, 116],\n",
       "         [ 41,  78, 115],\n",
       "         ...,\n",
       "         [ 63,  75,  98],\n",
       "         [ 60,  72,  98],\n",
       "         [ 60,  70,  96]],\n",
       "\n",
       "        [[ 71,  90, 121],\n",
       "         [ 73,  91, 123],\n",
       "         [ 74,  91, 124],\n",
       "         ...,\n",
       "         [ 79, 101, 142],\n",
       "         [ 80, 100, 140],\n",
       "         [ 82, 101, 139]],\n",
       "\n",
       "        [[ 71,  88, 122],\n",
       "         [ 73,  92, 128],\n",
       "         [ 76,  95, 131],\n",
       "         ...,\n",
       "         [ 81, 106, 150],\n",
       "         [ 85, 108, 151],\n",
       "         [ 85, 107, 149]]],\n",
       "\n",
       "\n",
       "       [[[ 22,  24,  23],\n",
       "         [ 23,  25,  24],\n",
       "         [ 24,  26,  25],\n",
       "         ...,\n",
       "         [ 24,  29,  25],\n",
       "         [ 23,  25,  22],\n",
       "         [ 20,  22,  21]],\n",
       "\n",
       "        [[ 22,  24,  23],\n",
       "         [ 23,  25,  24],\n",
       "         [ 23,  26,  25],\n",
       "         ...,\n",
       "         [ 22,  28,  23],\n",
       "         [ 20,  23,  22],\n",
       "         [ 19,  21,  21]],\n",
       "\n",
       "        [[ 22,  24,  22],\n",
       "         [ 23,  25,  24],\n",
       "         [ 23,  26,  25],\n",
       "         ...,\n",
       "         [ 23,  27,  23],\n",
       "         [ 20,  23,  21],\n",
       "         [ 18,  20,  19]],\n",
       "\n",
       "        ...,\n",
       "\n",
       "        [[  8,   5,   0],\n",
       "         [  9,   6,   1],\n",
       "         [  9,   6,   1],\n",
       "         ...,\n",
       "         [  4,   5,   0],\n",
       "         [  5,   4,   0],\n",
       "         [  4,   5,   0]],\n",
       "\n",
       "        [[  7,   5,   0],\n",
       "         [  8,   5,   1],\n",
       "         [  9,   6,   1],\n",
       "         ...,\n",
       "         [  4,   5,   0],\n",
       "         [  4,   5,   0],\n",
       "         [  4,   5,   0]],\n",
       "\n",
       "        [[  7,   5,   0],\n",
       "         [  8,   5,   0],\n",
       "         [  9,   6,   1],\n",
       "         ...,\n",
       "         [  4,   5,   0],\n",
       "         [  4,   5,   0],\n",
       "         [  4,   5,   0]]],\n",
       "\n",
       "\n",
       "       [[[  8,  28,  53],\n",
       "         [ 14,  33,  58],\n",
       "         [ 19,  35,  61],\n",
       "         ...,\n",
       "         [ 11,  16,  35],\n",
       "         [ 10,  16,  35],\n",
       "         [  9,  14,  32]],\n",
       "\n",
       "        [[ 15,  31,  57],\n",
       "         [ 15,  32,  58],\n",
       "         [ 18,  34,  60],\n",
       "         ...,\n",
       "         [ 13,  17,  35],\n",
       "         [ 13,  17,  35],\n",
       "         [ 13,  16,  35]],\n",
       "\n",
       "        [[ 20,  35,  61],\n",
       "         [ 19,  33,  59],\n",
       "         [ 20,  33,  59],\n",
       "         ...,\n",
       "         [ 16,  17,  35],\n",
       "         [ 16,  18,  35],\n",
       "         [ 15,  17,  35]],\n",
       "\n",
       "        ...,\n",
       "\n",
       "        [[  0,   0,   0],\n",
       "         [  0,   0,   0],\n",
       "         [  0,   0,   0],\n",
       "         ...,\n",
       "         [  0,   0,   0],\n",
       "         [  0,   0,   0],\n",
       "         [  0,   0,   0]],\n",
       "\n",
       "        [[  0,   0,   0],\n",
       "         [  0,   0,   0],\n",
       "         [  0,   0,   0],\n",
       "         ...,\n",
       "         [  0,   0,   0],\n",
       "         [  0,   0,   0],\n",
       "         [  0,   0,   0]],\n",
       "\n",
       "        [[  0,   0,   0],\n",
       "         [  0,   0,   0],\n",
       "         [  0,   0,   0],\n",
       "         ...,\n",
       "         [  0,   0,   0],\n",
       "         [  0,   0,   0],\n",
       "         [  0,   0,   0]]]], dtype=uint8)"
      ]
     },
     "execution_count": 8,
     "metadata": {},
     "output_type": "execute_result"
    }
   ],
   "execution_count": 8
  },
  {
   "cell_type": "code",
   "metadata": {
    "ExecuteTime": {
     "end_time": "2025-07-06T09:25:06.261808Z",
     "start_time": "2025-07-06T09:25:06.256809Z"
    }
   },
   "source": [
    "train_x = train_x.reshape(train_x.shape[0], -1).T\n",
    "test_x = test_x.reshape(test_x.shape[0], -1).T\n",
    "print(train_x.shape, test_x.shape)"
   ],
   "outputs": [
    {
     "name": "stdout",
     "output_type": "stream",
     "text": [
      "(12288, 209) (12288, 50)\n"
     ]
    }
   ],
   "execution_count": 10
  },
  {
   "cell_type": "code",
   "metadata": {
    "collapsed": true,
    "ExecuteTime": {
     "end_time": "2025-07-06T09:25:08.740703Z",
     "start_time": "2025-07-06T09:25:08.728060Z"
    }
   },
   "source": [
    "train_x = train_x/255.\n",
    "test_x = test_x/255."
   ],
   "outputs": [],
   "execution_count": 11
  },
  {
   "cell_type": "code",
   "metadata": {
    "collapsed": true,
    "ExecuteTime": {
     "end_time": "2025-07-06T09:25:11.217196Z",
     "start_time": "2025-07-06T09:25:11.213201Z"
    }
   },
   "source": [
    "def basic_sigmoid(x):\n",
    "    \"\"\"\n",
    "    计算sigmoid函数\n",
    "    \"\"\"\n",
    "    \n",
    "    ### 开始\n",
    "    s = 1 / (1 + np.exp(-x))\n",
    "    ### 结束\n",
    "    \n",
    "    return s"
   ],
   "outputs": [],
   "execution_count": 12
  },
  {
   "cell_type": "markdown",
   "metadata": {
    "collapsed": true
   },
   "source": [
    "### 算法结构实现\n",
    "分别构建算法的不同模块\n",
    "* 初始化参数\n",
    "* 计算成本函数及其梯度\n",
    "* 使用优化算法（梯度下降）\n",
    "    * 循环：\n",
    "    * 计算当前损失（正向传播）\n",
    "    * 计算当前梯度（反向传播）\n",
    "    * 更新参数（梯度下降）\n",
    " \n",
    "### 初始化参数（假设有 n 个特征，m 个样本）\n",
    "\n",
    "```python\n",
    "J = 0\n",
    "W = np.zeros([n, 1])\n",
    "b = 0\n",
    "```\n",
    "\n",
    "---\n",
    "\n",
    "### 激活函数定义（以 Sigmoid 为例）$\\sigma(z) = \\frac{1}{1 + e^{-z}}$\n",
    "\n",
    "---\n",
    "\n",
    "### 前向传播 计算出梯度与损失\n",
    "\n",
    "$Z = W^T X + b$\n",
    "               (1,m)\n",
    "\n",
    "$A = \\sigma(Z)$                             (1,m)\n",
    "\n",
    "### 计算损失：$L(\\hat{y},y)=−(ylog\\hat{y})−(1−y)log(1−\\hat{y})$\n",
    "\n",
    "### 反向传播（计算参数的更新梯度）\n",
    "$dZ = A - Y$                    (1,m)\n",
    "\n",
    "\n",
    "$dW = \\frac{1}{m} X dZ^T$           (n,m) * (m,1) = (n,1)\n",
    "\n",
    "\n",
    "$db = \\frac{1}{m} \\sum dZ$\n",
    "\n",
    "---\n",
    "\n",
    "### 参数更新（使用学习率 ($\\alpha$)）\n",
    "$W := W - \\alpha dW$\n",
    "\n",
    "\n",
    "$b := b - \\alpha db$"
   ]
  },
  {
   "cell_type": "markdown",
   "metadata": {
    "collapsed": true
   },
   "source": [
    "### 初始化网络参数"
   ]
  },
  {
   "cell_type": "code",
   "metadata": {
    "collapsed": true,
    "ExecuteTime": {
     "end_time": "2025-07-06T09:25:23.005671Z",
     "start_time": "2025-07-06T09:25:23.000512Z"
    }
   },
   "source": [
    "def initialize_with_zeros(shape):\n",
    "    \"\"\"\n",
    "    创建一个形状为 (shape, 1) 的w参数和b=0.\n",
    "    return:w, b\n",
    "    \"\"\"\n",
    "    \n",
    "    ### 开始\n",
    "    w = np.zeros((shape, 1))\n",
    "    b = 0\n",
    "\n",
    "    ### 结束\n",
    "\n",
    "    assert(w.shape == (shape, 1))\n",
    "    assert(isinstance(b, float) or isinstance(b, int))\n",
    "    \n",
    "    return w, b"
   ],
   "outputs": [],
   "execution_count": 13
  },
  {
   "cell_type": "markdown",
   "metadata": {
    "collapsed": true
   },
   "source": [
    "### 前向和反向传播\n",
    "根据损失函数、前后传播向量化代码"
   ]
  },
  {
   "cell_type": "code",
   "metadata": {
    "collapsed": true,
    "ExecuteTime": {
     "end_time": "2025-07-06T10:08:01.842820Z",
     "start_time": "2025-07-06T10:08:01.835460Z"
    }
   },
   "source": [
    "def propagate(w, b, X, Y):\n",
    "    \"\"\"\n",
    "    参数：w,b,X,Y：网络参数和数据\n",
    "    Return:\n",
    "    损失cost、参数W的梯度dw、参数b的梯度db\n",
    "    \"\"\"\n",
    "    # 获取样本数\n",
    "    m = X.shape[1]\n",
    "    \n",
    "    # 前向传播\n",
    "    ### 开始\n",
    "    # w (n,1), x (n, m)\n",
    "    # np.dot(w.T, X)  # (1, m)\n",
    "    A = basic_sigmoid(np.dot(w.T, X) + b)\n",
    "\n",
    "    #计算损失\n",
    "    #损失计算方法-(Y * np.log(A) + (1 - Y) * np.log(1 - A))\n",
    "    #由于计算的是所有损失,所以需要除以样本数m\n",
    "    cost = -1 / m * np.sum(Y * np.log(A) + (1 - Y) * np.log(1 - A))\n",
    "    ### 结束\n",
    "\n",
    "    # 反向传播\n",
    "    ### 开始\n",
    "    dz = A - Y\n",
    "    dw = 1 / m * np.dot(X, dz.T)\n",
    "    db = 1 / m * np.sum(dz)\n",
    "    ### 结束\n",
    "\n",
    "    assert(dw.shape == w.shape)\n",
    "    assert(db.dtype == float)\n",
    "    cost = np.squeeze(cost)\n",
    "    assert(cost.shape == ())\n",
    "    \n",
    "    grads = {\"dw\": dw,\n",
    "             \"db\": db}\n",
    "    \n",
    "    return grads, cost"
   ],
   "outputs": [],
   "execution_count": 15
  },
  {
   "cell_type": "markdown",
   "metadata": {},
   "source": [
    "### 优化过程\n",
    "实现优化函数. 全局的参数随着 $w$  $b$ 对损失 $J$进行优化改变. 对参数 $\\theta$实行 $ \\theta = \\theta - \\alpha \\text{ } d\\theta$, 并制定 $\\alpha$ 学习率。"
   ]
  },
  {
   "cell_type": "code",
   "metadata": {
    "collapsed": true,
    "ExecuteTime": {
     "end_time": "2025-07-06T10:08:04.882458Z",
     "start_time": "2025-07-06T10:08:04.874541Z"
    }
   },
   "source": [
    "def optimize(w, b, X, Y, num_iterations, learning_rate):\n",
    "    \"\"\"\n",
    "    参数：\n",
    "    w:权重,b:偏置,X特征,Y目标值,num_iterations总迭代次数,learning_rate学习率\n",
    "    Returns:\n",
    "    params:更新后的参数字典\n",
    "    grads:梯度\n",
    "    costs:损失结果\n",
    "    \"\"\"\n",
    "    \n",
    "    costs = []\n",
    "    \n",
    "    for i in range(num_iterations):\n",
    "        \n",
    "        # 梯度更新计算函数\n",
    "        ### 开始\n",
    "        grads, cost = propagate(w, b, X, Y)\n",
    "        \n",
    "        # 取出两个部分参数的梯度\n",
    "        dw = grads['dw']\n",
    "        db = grads['db']\n",
    "        \n",
    "        # 按照梯度下降公式去计算\n",
    "        w = w - learning_rate * dw\n",
    "        b = b - learning_rate * db\n",
    "        \n",
    "        ### 结束\n",
    "        \n",
    "        if i % 100 == 0:\n",
    "            costs.append(cost)\n",
    "        if i % 100 == 0:\n",
    "            print(\"损失结果 %i: %f\" %(i, cost))\n",
    "            print(b)\n",
    "    \n",
    "    params = {\"w\": w,\n",
    "              \"b\": b}\n",
    "    \n",
    "    grads = {\"dw\": dw,\n",
    "             \"db\": db}\n",
    "    \n",
    "    return params, grads, costs"
   ],
   "outputs": [],
   "execution_count": 16
  },
  {
   "cell_type": "markdown",
   "metadata": {},
   "source": [
    "### 预测函数（不用实现）\n",
    "利用得出的参数来进行测试得出准确率"
   ]
  },
  {
   "cell_type": "code",
   "metadata": {
    "collapsed": true,
    "ExecuteTime": {
     "end_time": "2025-07-06T10:08:07.465401Z",
     "start_time": "2025-07-06T10:08:07.459423Z"
    }
   },
   "source": [
    "def predict(w, b, X):\n",
    "    '''\n",
    "    利用训练好的参数预测\n",
    "    \n",
    "    return：预测结果\n",
    "    '''\n",
    "    \n",
    "    m = X.shape[1]\n",
    "    Y_prediction = np.zeros((1,m))\n",
    "    w = w.reshape(X.shape[0], 1)\n",
    "    \n",
    "    # 计算结果\n",
    "    ### 开始\n",
    "    A = basic_sigmoid(np.dot(w.T, X) + b)\n",
    "    ### 结束\n",
    "\n",
    "    for i in range(A.shape[1]):\n",
    "        \n",
    "        ### 开始\n",
    "        if A[0, i] <= 0.5:\n",
    "            Y_prediction[0, i] = 0\n",
    "        else:\n",
    "            Y_prediction[0, i] = 1\n",
    "        ### 结束\n",
    "    \n",
    "    assert(Y_prediction.shape == (1, m))\n",
    "    \n",
    "    return Y_prediction"
   ],
   "outputs": [],
   "execution_count": 17
  },
  {
   "cell_type": "markdown",
   "metadata": {},
   "source": [
    "### 整体逻辑实现"
   ]
  },
  {
   "cell_type": "code",
   "metadata": {
    "collapsed": true,
    "ExecuteTime": {
     "end_time": "2025-07-06T10:09:10.369722Z",
     "start_time": "2025-07-06T10:09:10.360942Z"
    }
   },
   "source": [
    "def model(X_train, Y_train, X_test, Y_test, num_iterations = 2000, learning_rate = 0.5):\n",
    "    \"\"\"\n",
    "    \"\"\"\n",
    "    \n",
    "    ### 开始\n",
    "    \n",
    "    # 初始化参数\n",
    "    w, b = initialize_with_zeros(X_train.shape[0])\n",
    "\n",
    "    # 梯度下降\n",
    "    # params:更新后的网络参数\n",
    "    # grads:最后一次梯度\n",
    "    # costs:每次更新的损失列表\n",
    "    params, grads, costs = optimize(w, b, X_train, Y_train, num_iterations, learning_rate)\n",
    "    \n",
    "    # 获取训练的参数\n",
    "    # 预测结果\n",
    "    w = params['w']\n",
    "    b = params['b']\n",
    "    \n",
    "    Y_prediction_train = predict(w, b, X_train)\n",
    "    Y_prediction_test = predict(w, b, X_test)\n",
    "    ### 结束\n",
    "\n",
    "    # 打印准确率\n",
    "    print(\"训练集准确率: {} \".format(100 - np.mean(np.abs(Y_prediction_train - Y_train)) * 100))\n",
    "    print(\"测试集准确率: {} \".format(100 - np.mean(np.abs(Y_prediction_test - Y_test)) * 100))\n",
    "\n",
    "    \n",
    "    d = {\"costs\": costs,\n",
    "         \"Y_prediction_test\": Y_prediction_test, \n",
    "         \"Y_prediction_train\" : Y_prediction_train, \n",
    "         \"w\" : w, \n",
    "         \"b\" : b,\n",
    "         \"learning_rate\" : learning_rate,\n",
    "         \"num_iterations\": num_iterations}\n",
    "    \n",
    "    return d"
   ],
   "outputs": [],
   "execution_count": 18
  },
  {
   "cell_type": "markdown",
   "metadata": {},
   "source": [
    "### 测试"
   ]
  },
  {
   "cell_type": "code",
   "metadata": {
    "ExecuteTime": {
     "end_time": "2025-07-06T10:09:23.591594Z",
     "start_time": "2025-07-06T10:09:21.260642Z"
    }
   },
   "source": [
    "d = model(train_x, train_y, test_x, test_y, num_iterations = 2000, learning_rate = 0.005)"
   ],
   "outputs": [
    {
     "name": "stdout",
     "output_type": "stream",
     "text": [
      "损失结果 0: 0.693147\n",
      "-0.000777511961722488\n",
      "损失结果 100: 0.584508\n",
      "-0.0043827623417682\n",
      "损失结果 200: 0.466949\n",
      "-0.006796745374030197\n",
      "损失结果 300: 0.376007\n",
      "-0.00896621604504307\n",
      "损失结果 400: 0.331463\n",
      "-0.010796335272035095\n",
      "损失结果 500: 0.303273\n",
      "-0.012282447313396536\n",
      "损失结果 600: 0.279880\n",
      "-0.013402386273819074\n",
      "损失结果 700: 0.260042\n",
      "-0.014245091216970826\n",
      "损失结果 800: 0.242941\n",
      "-0.014875420165524861\n",
      "损失结果 900: 0.228004\n",
      "-0.015341288386626656\n",
      "损失结果 1000: 0.214820\n",
      "-0.01567878837544241\n",
      "损失结果 1100: 0.203078\n",
      "-0.015915536343924584\n",
      "损失结果 1200: 0.192544\n",
      "-0.01607292624287495\n",
      "损失结果 1300: 0.183033\n",
      "-0.016167692508505714\n",
      "损失结果 1400: 0.174399\n",
      "-0.016213022073676538\n",
      "损失结果 1500: 0.166521\n",
      "-0.016219364232163885\n",
      "损失结果 1600: 0.159305\n",
      "-0.016195032712389285\n",
      "损失结果 1700: 0.152667\n",
      "-0.016146661324349915\n",
      "损失结果 1800: 0.146542\n",
      "-0.01607955397736278\n",
      "损失结果 1900: 0.140872\n",
      "-0.015997956805040348\n",
      "训练集准确率: 99.04306220095694 \n",
      "测试集准确率: 70.0 \n"
     ]
    }
   ],
   "execution_count": 19
  },
  {
   "cell_type": "code",
   "execution_count": null,
   "metadata": {
    "collapsed": true
   },
   "outputs": [],
   "source": []
  }
 ],
 "metadata": {
  "kernelspec": {
   "display_name": "Python 3",
   "language": "python",
   "name": "python3"
  },
  "language_info": {
   "codemirror_mode": {
    "name": "ipython",
    "version": 3
   },
   "file_extension": ".py",
   "mimetype": "text/x-python",
   "name": "python",
   "nbconvert_exporter": "python",
   "pygments_lexer": "ipython3",
   "version": "3.6.0"
  }
 },
 "nbformat": 4,
 "nbformat_minor": 2
}
