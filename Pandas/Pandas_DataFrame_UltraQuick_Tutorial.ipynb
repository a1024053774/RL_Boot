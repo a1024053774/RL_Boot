{
 "nbformat": 4,
 "nbformat_minor": 0,
 "metadata": {
  "colab": {
   "name": "Pandas DataFrame UltraQuick Tutorial.ipynb",
   "provenance": [],
   "private_outputs": true
  },
  "kernelspec": {
   "name": "python3",
   "display_name": "Python 3"
  }
 },
 "cells": [
  {
   "cell_type": "code",
   "metadata": {
    "id": "NO_4WhdJZ5Pm",
    "cellView": "form"
   },
   "source": [
    "#@title Copyright 2020 Google LLC. Double-click here for license information.\n",
    "# Licensed under the Apache License, Version 2.0 (the \"License\");\n",
    "# you may not use this file except in compliance with the License.\n",
    "# You may obtain a copy of the License at\n",
    "#\n",
    "# https://www.apache.org/licenses/LICENSE-2.0\n",
    "#\n",
    "# Unless required by applicable law or agreed to in writing, software\n",
    "# distributed under the License is distributed on an \"AS IS\" BASIS,\n",
    "# WITHOUT WARRANTIES OR CONDITIONS OF ANY KIND, either express or implied.\n",
    "# See the License for the specific language governing permissions and\n",
    "# limitations under the License."
   ],
   "execution_count": null,
   "outputs": []
  },
  {
   "cell_type": "markdown",
   "metadata": {
    "id": "T4r2z30vJSbA"
   },
   "source": [
    "# Colabs\n",
    "\n",
    "Machine Learning Crash Course uses Colaboratories (Colabs) for all programming exercises. Colab is Google's implementation of [Jupyter Notebook](https://jupyter.org/). For more information about Colabs and how to use them, go to [Welcome to Colaboratory](https://research.google.com/colaboratory).\n",
    "\n",
    "Colab 是 Google 推出的 Jupyter Notebook 的实现。关于 Colab 及其使用方法的更多信息，请访问 Welcome to Colaboratory。"
   ]
  },
  {
   "cell_type": "markdown",
   "metadata": {
    "id": "DeKRcpe49VnV"
   },
   "source": [
    "# Pandas DataFrame UltraQuick Tutorial\n",
    "\n",
    "This Colab introduces [**DataFrames**](https://pandas.pydata.org/pandas-docs/stable/reference/api/pandas.DataFrame.html), which are the central data structure in the pandas API. This Colab is not a comprehensive DataFrames tutorial.  Rather, this Colab provides a very quick introduction to the parts of DataFrames required to do the other Colab exercises in Machine Learning Crash Course.\n",
    "\n",
    "A DataFrame is similar to an in-memory spreadsheet. Like a spreadsheet:\n",
    "\n",
    "  * A DataFrame stores data in cells.\n",
    "  * A DataFrame has named columns (usually) and numbered rows.\n",
    "\n",
    "本 Colab 介绍了 DataFrame，它是 pandas API 的核心数据结构。本教程并不是 DataFrame 的全面教程，而是为机器学习速成课程中其他 Colab 练习提供 DataFrame 的快速入门。\n",
    "\n",
    "DataFrame 类似于内存中的电子表格。与电子表格类似：\n",
    "\n",
    "DataFrame 将数据存储在单元格中。\n",
    "\n",
    "DataFrame 通常有命名的列和编号的行。\n",
    "\n"
   ]
  },
  {
   "cell_type": "markdown",
   "metadata": {
    "id": "AByfHsr8H_sU"
   },
   "source": [
    "## Import NumPy and pandas modules\n",
    "\n",
    "Run the following code cell to import the NumPy and pandas modules.\n",
    "\n",
    "导入 NumPy 和 pandas 模块\n",
    "运行以下代码单元以导入 NumPy 和 pandas 模块。"
   ]
  },
  {
   "cell_type": "code",
   "metadata": {
    "id": "ZmL0l551Iibq",
    "ExecuteTime": {
     "end_time": "2025-07-11T10:49:08.703074Z",
     "start_time": "2025-07-11T10:49:08.698711Z"
    }
   },
   "source": [
    "import numpy as np\n",
    "import pandas as pd"
   ],
   "outputs": [],
   "execution_count": 2
  },
  {
   "cell_type": "markdown",
   "metadata": {
    "id": "RutIK84wIp1S"
   },
   "source": [
    "## Creating a DataFrame\n",
    "\n",
    "The following code cell creates a simple DataFrame containing 10 cells organized as follows:\n",
    "\n",
    "下面的代码单元创建了一个简单的 DataFrame，包含 10 个单元格，组织方式如下：\n",
    "  * 5 rows\n",
    "  * 2 columns, one named `temperature` and the other named `activity`\n",
    "  * 5 行\n",
    "  * 2 列，一列名为 `temperature`，另一列名为 `activity`\n",
    "\n",
    "The following code cell instantiates a `pd.DataFrame` class to generate a DataFrame. The class takes two arguments:\n",
    "\n",
    "以下代码单元通过实例化 pd.DataFrame 类来生成 DataFrame。该类接收两个参数：\n",
    "\n",
    "  * The first argument provides the data to populate the 10 cells. The code cell calls `np.array` to generate the 5x2 NumPy array.\n",
    "  * The second argument identifies the names of the two columns.\n",
    "    * 第一个参数提供数据以填充 10 个单元格。代码单元调用 `np.array` 生成 5x2 NumPy 数组。\n",
    "    * 第二个参数标识两个列的名称。\n",
    "\n",
    "**Note**: Do not redefine variables in the following code cell. Subsequent code cells use these variables.\n",
    "\n",
    "**注意**：不要在以下代码单元中重新定义变量。后续代码单元使用这些变量。"
   ]
  },
  {
   "cell_type": "code",
   "metadata": {
    "id": "FNZsPOgSD4F2",
    "ExecuteTime": {
     "end_time": "2025-07-11T10:56:03.385097Z",
     "start_time": "2025-07-11T10:56:03.359504Z"
    }
   },
   "source": [
    "# Create and populate a 5x2 NumPy array. 创建并填充一个 5x2 的 NumPy 数组\n",
    "my_data = np.array([[0, 3], [10, 7], [20, 9], [30, 14], [40, 15]])\n",
    "\n",
    "# Create a Python list that holds the names of the two columns.创建一个包含两列名称的 Python 列表\n",
    "my_column_names = ['temperature', 'activity']\n",
    "\n",
    "# Create a DataFrame.创建一个 DataFrame\n",
    "my_dataframe = pd.DataFrame(data=my_data, columns=my_column_names)\n",
    "\n",
    "# Print the entire DataFrame打印整个 DataFrame\n",
    "print(my_dataframe)"
   ],
   "outputs": [
    {
     "name": "stdout",
     "output_type": "stream",
     "text": [
      "   temperature  activity\n",
      "0            0         3\n",
      "1           10         7\n",
      "2           20         9\n",
      "3           30        14\n",
      "4           40        15\n"
     ]
    }
   ],
   "execution_count": 3
  },
  {
   "cell_type": "markdown",
   "metadata": {
    "id": "NJ-I78_7OFVs"
   },
   "source": [
    "## Adding a new column to a DataFrame 向 DataFrame 添加新列\n",
    "\n",
    "You may add a new column to an existing pandas DataFrame just by assigning values to a new column name. For example, the following code creates a third column named `adjusted` in `my_dataframe`:\n",
    "\n",
    "你可以通过给新的列名赋值，直接向现有的 pandas DataFrame 添加新列。例如，下面的代码在 my_dataframe 中创建了第三列 adjusted："
   ]
  },
  {
   "cell_type": "code",
   "metadata": {
    "id": "JEBZyMdEOngx",
    "ExecuteTime": {
     "end_time": "2025-07-11T10:57:41.534500Z",
     "start_time": "2025-07-11T10:57:41.525797Z"
    }
   },
   "source": [
    "# Create a new column named adjusted.\n",
    "my_dataframe[\"adjusted\"] = my_dataframe[\"activity\"] + 2\n",
    "\n",
    "# Print the entire DataFrame\n",
    "print(my_dataframe)"
   ],
   "outputs": [
    {
     "name": "stdout",
     "output_type": "stream",
     "text": [
      "   temperature  activity  adjusted\n",
      "0            0         3         5\n",
      "1           10         7         9\n",
      "2           20         9        11\n",
      "3           30        14        16\n",
      "4           40        15        17\n"
     ]
    }
   ],
   "execution_count": 4
  },
  {
   "cell_type": "markdown",
   "metadata": {
    "id": "RJ2aziCR5th2"
   },
   "source": [
    "## Specifying a subset of a DataFrame 指定 DataFrame 的子集\n",
    "\n",
    "Pandas provide multiples ways to isolate specific rows, columns, slices or cells in a DataFrame.\n",
    "\n",
    "Pandas 提供多种方法来获取 DataFrame 中的特定行、列、切片或单元格。"
   ]
  },
  {
   "cell_type": "code",
   "metadata": {
    "id": "RIO91Fu65s6k",
    "ExecuteTime": {
     "end_time": "2025-07-11T10:59:24.365092Z",
     "start_time": "2025-07-11T10:59:24.345695Z"
    }
   },
   "source": [
    "print(\"Rows #0, #1, and #2:\")\n",
    "print(my_dataframe.head(3), '\\n')\n",
    "\n",
    "print(\"Row #2:\")\n",
    "print(my_dataframe.iloc[[2]], '\\n')\n",
    "\n",
    "print(\"Rows #1, #2, and #3:\")\n",
    "print(my_dataframe[1:4], '\\n')\n",
    "\n",
    "print(\"Column 'temperature':\")\n",
    "print(my_dataframe['temperature'])"
   ],
   "outputs": [
    {
     "name": "stdout",
     "output_type": "stream",
     "text": [
      "Rows #0, #1, and #2:\n",
      "   temperature  activity  adjusted\n",
      "0            0         3         5\n",
      "1           10         7         9\n",
      "2           20         9        11 \n",
      "\n",
      "Row #2:\n",
      "   temperature  activity  adjusted\n",
      "2           20         9        11 \n",
      "\n",
      "Rows #1, #2, and #3:\n",
      "   temperature  activity  adjusted\n",
      "1           10         7         9\n",
      "2           20         9        11\n",
      "3           30        14        16 \n",
      "\n",
      "Column 'temperature':\n",
      "0     0\n",
      "1    10\n",
      "2    20\n",
      "3    30\n",
      "4    40\n",
      "Name: temperature, dtype: int32\n"
     ]
    }
   ],
   "execution_count": 5
  },
  {
   "cell_type": "markdown",
   "metadata": {
    "id": "_cL_NxAdZzdS"
   },
   "source": [
    "## Task 1: Create a DataFrame 任务1：创建一个 DataFrame\n",
    "\n",
    "Do the following: 请完成以下操作：\n",
    "\n",
    "  1. Create an 3x4 (3 rows x 4 columns) pandas DataFrame in which the columns are named `Eleanor`,  `Chidi`, `Tahani`, and `Jason`.  Populate each of the 12 cells in the DataFrame with a random integer between 0 and 100, inclusive.\n",
    "    创建一个 3x4（3行4列）的 pandas DataFrame，列名为 Eleanor、Chidi、Tahani 和 Jason。用 0 到 100 之间的随机整数填充 12 个单元格。\n",
    "\n",
    "  2. Output the following:输出以下内容：\n",
    "\n",
    "     * the entire DataFrame 整个 DataFrame\n",
    "     * the value in the cell of row #1 of the `Eleanor` column Eleanor 列第1行的值\n",
    "\n",
    "  3. Create a fifth column named `Janet`, which is populated with the row-by-row sums of `Tahani` and `Jason`.创建第五列 Janet，其值为每行 Tahani 和 Jason 的和。\n",
    "\n",
    "To complete this task, it helps to know the NumPy basics covered in the NumPy UltraQuick Tutorial.\n",
    "\n",
    "完成本任务需要了解 NumPy 的基础知识，详见 NumPy 超快速教程。\n"
   ]
  },
  {
   "cell_type": "code",
   "metadata": {
    "id": "cIJEv08DMSxj",
    "ExecuteTime": {
     "end_time": "2025-07-11T11:10:01.367788Z",
     "start_time": "2025-07-11T11:10:01.355970Z"
    }
   },
   "source": [
    "# Write your code here.\n",
    "my_data = np.random.randint(low = 0, high = 101, size = (3 , 4))\n",
    "my_column_names = ['Eleanor', 'Chidi', 'Tahani', 'Jason']\n",
    "df = pd.DataFrame(data=my_data, columns=my_column_names)\n",
    "print(df)\n",
    "print(\"row #1 of the Eleanor: \")\n",
    "print(df['Eleanor'][1])\n",
    "\n",
    "#add column Janet,value is the sum of Tahani and Jason\n",
    "df[\"Janet\"] = df[\"Tahani\"] + df[\"Jason\"]\n",
    "print(df)"
   ],
   "outputs": [
    {
     "name": "stdout",
     "output_type": "stream",
     "text": [
      "   Eleanor  Chidi  Tahani  Jason\n",
      "0        6     33      87     61\n",
      "1       59     87      62     97\n",
      "2       30     25      73     31\n",
      "row #1 of the Eleanor: \n",
      "59\n",
      "   Eleanor  Chidi  Tahani  Jason  Janet\n",
      "0        6     33      87     61    148\n",
      "1       59     87      62     97    159\n",
      "2       30     25      73     31    104\n"
     ]
    }
   ],
   "execution_count": 8
  },
  {
   "cell_type": "code",
   "metadata": {
    "id": "dPmpVM_8IoBO",
    "cellView": "form"
   },
   "source": [
    "#@title Double-click for a solution to Task 1.\n",
    "\n",
    "# Create a Python list that holds the names of the four columns.\n",
    "my_column_names = ['Eleanor', 'Chidi', 'Tahani', 'Jason']\n",
    "\n",
    "# Create a 3x4 numpy array, each cell populated with a random integer.\n",
    "my_data = np.random.randint(low=0, high=101, size=(3, 4))\n",
    "\n",
    "# Create a DataFrame.\n",
    "df = pd.DataFrame(data=my_data, columns=my_column_names)\n",
    "\n",
    "# Print the entire DataFrame\n",
    "print(df)\n",
    "\n",
    "# Print the value in row #1 of the Eleanor column.\n",
    "print(\"\\nSecond row of the Eleanor column: %d\\n\" % df['Eleanor'][1])\n",
    "\n",
    "# Create a column named Janet whose contents are the sum\n",
    "# of two other columns.\n",
    "df['Janet'] = df['Tahani'] + df['Jason']\n",
    "\n",
    "# Print the enhanced DataFrame\n",
    "print(df)"
   ],
   "execution_count": null,
   "outputs": []
  },
  {
   "cell_type": "markdown",
   "metadata": {
    "id": "bh7MeyafemNL"
   },
   "source": [
    "## Copying a DataFrame (optional) 复制 DataFrame（可选）\n",
    "\n",
    "Pandas provides two different ways to duplicate a DataFrame: Pandas 提供两种不同的方法来复制 DataFrame：\n",
    "\n",
    "* **Referencing.** If you assign a DataFrame to a new variable, any change to the DataFrame or to the new variable will be reflected in the other.\n",
    "* 引用。 如果你将一个 DataFrame 赋值给新变量，对原 DataFrame 或新变量的更改会相互影响。\n",
    "* **Copying.** If you call the `pd.DataFrame.copy` method, you create a true independent copy.  Changes to the original DataFrame or to the copy will not be reflected in the other.\n",
    "* 复制。 如果你调用 pd.DataFrame.copy 方法，会创建一个真正独立的副本。对原 DataFrame 或副本的更改不会相互影响。\n",
    "\n",
    "The difference is subtle, but important. 这个区别很微妙，但非常重要"
   ]
  },
  {
   "cell_type": "code",
   "metadata": {
    "id": "YDu2VotPgzsW"
   },
   "source": [
    "# Create a reference by assigning my_dataframe to a new variable.\n",
    "print(\"Experiment with a reference:\")\n",
    "reference_to_df = df\n",
    "\n",
    "# Print the starting value of a particular cell.\n",
    "print(\"  Starting value of df: %d\" % df['Jason'][1])\n",
    "print(\"  Starting value of reference_to_df: %d\\n\" % reference_to_df['Jason'][1])\n",
    "\n",
    "# Modify a cell in df.\n",
    "df.at[1, 'Jason'] = df['Jason'][1] + 5\n",
    "print(\"  Updated df: %d\" % df['Jason'][1])\n",
    "print(\"  Updated reference_to_df: %d\\n\\n\" % reference_to_df['Jason'][1])\n",
    "\n",
    "# Create a true copy of my_dataframe\n",
    "print(\"Experiment with a true copy:\")\n",
    "copy_of_my_dataframe = my_dataframe.copy()\n",
    "\n",
    "# Print the starting value of a particular cell.\n",
    "print(\"  Starting value of my_dataframe: %d\" % my_dataframe['activity'][1])\n",
    "print(\"  Starting value of copy_of_my_dataframe: %d\\n\" % copy_of_my_dataframe['activity'][1])\n",
    "\n",
    "# Modify a cell in df.\n",
    "my_dataframe.at[1, 'activity'] = my_dataframe['activity'][1] + 3\n",
    "print(\"  Updated my_dataframe: %d\" % my_dataframe['activity'][1])\n",
    "print(\"  copy_of_my_dataframe does not get updated: %d\" % copy_of_my_dataframe['activity'][1])\n"
   ],
   "execution_count": null,
   "outputs": []
  }
 ]
}
